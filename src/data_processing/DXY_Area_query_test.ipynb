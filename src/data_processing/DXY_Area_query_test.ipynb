{
 "cells": [
  {
   "cell_type": "code",
   "execution_count": 1,
   "metadata": {
    "collapsed": true,
    "pycharm": {
     "is_executing": false
    }
   },
   "outputs": [],
   "source": [
    "## Query real time data from DingXiangYuan, \n",
    "## and keep the latest records every day for each city\n",
    "\n",
    "\n",
    "import matplotlib.pyplot as plt\n",
    "import pandas as pd\n",
    "import pickle as pkl\n",
    "import numpy as np\n",
    "import math\n",
    "import datetime\n",
    "import warnings\n",
    "warnings.filterwarnings('ignore')\n",
    "%matplotlib inline\n",
    "from googletrans import Translator # package used to translate Chinese into English\n",
    "translator = Translator()"
   ]
  },
  {
   "cell_type": "code",
   "execution_count": 2,
   "outputs": [
    {
     "data": {
      "text/plain": "             date country countryCode province city  confirmed  suspected  \\\n15972  2020-03-24    津巴布韦          ZW      NaN  NaN          3          0   \n15973  2020-03-24    纳米比亚         NaN      NaN  NaN          4          0   \n\n       cured  dead  \n15972      0     1  \n15973      0     0  ",
      "text/html": "<div>\n<style scoped>\n    .dataframe tbody tr th:only-of-type {\n        vertical-align: middle;\n    }\n\n    .dataframe tbody tr th {\n        vertical-align: top;\n    }\n\n    .dataframe thead th {\n        text-align: right;\n    }\n</style>\n<table border=\"1\" class=\"dataframe\">\n  <thead>\n    <tr style=\"text-align: right;\">\n      <th></th>\n      <th>date</th>\n      <th>country</th>\n      <th>countryCode</th>\n      <th>province</th>\n      <th>city</th>\n      <th>confirmed</th>\n      <th>suspected</th>\n      <th>cured</th>\n      <th>dead</th>\n    </tr>\n  </thead>\n  <tbody>\n    <tr>\n      <th>15972</th>\n      <td>2020-03-24</td>\n      <td>津巴布韦</td>\n      <td>ZW</td>\n      <td>NaN</td>\n      <td>NaN</td>\n      <td>3</td>\n      <td>0</td>\n      <td>0</td>\n      <td>1</td>\n    </tr>\n    <tr>\n      <th>15973</th>\n      <td>2020-03-24</td>\n      <td>纳米比亚</td>\n      <td>NaN</td>\n      <td>NaN</td>\n      <td>NaN</td>\n      <td>4</td>\n      <td>0</td>\n      <td>0</td>\n      <td>0</td>\n    </tr>\n  </tbody>\n</table>\n</div>"
     },
     "metadata": {},
     "output_type": "execute_result",
     "execution_count": 2
    }
   ],
   "source": [
    "DXYArea = pd.read_csv('../data/DXY_Chinese.csv') # Read Chinese version \n",
    "# select column\n",
    "DXYArea = DXYArea[['date','country','countryCode','province', 'city', 'confirmed', 'suspected', 'cured', 'dead']]\n",
    "\n",
    "DXYArea.tail(2)  "
   ],
   "metadata": {
    "collapsed": false,
    "pycharm": {
     "name": "#%%\n",
     "is_executing": false
    }
   }
  },
  {
   "cell_type": "code",
   "execution_count": 3,
   "outputs": [],
   "source": [
    "def isNaN(num):\n",
    "    return num != num\n",
    "\n",
    "## Resoruce for Chinese - English Translation\n",
    "with open('chineseProvince_to_EN.pkl','rb') as f:\n",
    "    prov_dict = pkl.load(f)\n",
    "\n",
    "    \n",
    "with open('chineseCity_to_EN.pkl','rb') as f:\n",
    "    city_dict = pkl.load(f)    \n",
    "        \n",
    "def translate_to_English(data, prov_dict, city_dict):\n",
    "    \"\"\"Translate Chinese in dataset to English\n",
    "    \"\"\"        \n",
    "    data['province'] = data['province'].apply(getProvinceTranslation)\n",
    "    data['city'] = data['city'].apply(getCityTranslation)\n",
    "    \n",
    "    for city in unable_translation: # remove these unable translated data\n",
    "        data = data[data['city']!=city]\n",
    "    return data\n",
    "    \n",
    "def getProvinceTranslation(name):\n",
    "    if not isNaN(name):\n",
    "        return prov_dict[name]\n",
    "    else: \n",
    "        return name\n",
    "\n",
    "unable_translation = []\n",
    "def getCityTranslation(name):\n",
    "    try:\n",
    "        if not isNaN(name): \n",
    "            return city_dict[name]\n",
    "        else:\n",
    "            return name\n",
    "    except:\n",
    "        unable_translation.append(name)\n",
    "        #print(name + ' cannot be translated\\n')\n",
    "        return name\n",
    "    "
   ],
   "metadata": {
    "collapsed": false,
    "pycharm": {
     "name": "#%%\n",
     "is_executing": false
    }
   }
  },
  {
   "cell_type": "code",
   "execution_count": 4,
   "outputs": [
    {
     "data": {
      "text/plain": "         date country countryCode        province   city  confirmed  \\\n0  2019-12-01      中国          CN             NaN    NaN          1   \n1  2019-12-01      中国          CN  Hubei Province    NaN          1   \n2  2019-12-01      中国          CN  Hubei Province  Wuhan          1   \n\n   suspected  cured  dead  \n0          0      0     0  \n1          0      0     0  \n2          0      0     0  ",
      "text/html": "<div>\n<style scoped>\n    .dataframe tbody tr th:only-of-type {\n        vertical-align: middle;\n    }\n\n    .dataframe tbody tr th {\n        vertical-align: top;\n    }\n\n    .dataframe thead th {\n        text-align: right;\n    }\n</style>\n<table border=\"1\" class=\"dataframe\">\n  <thead>\n    <tr style=\"text-align: right;\">\n      <th></th>\n      <th>date</th>\n      <th>country</th>\n      <th>countryCode</th>\n      <th>province</th>\n      <th>city</th>\n      <th>confirmed</th>\n      <th>suspected</th>\n      <th>cured</th>\n      <th>dead</th>\n    </tr>\n  </thead>\n  <tbody>\n    <tr>\n      <th>0</th>\n      <td>2019-12-01</td>\n      <td>中国</td>\n      <td>CN</td>\n      <td>NaN</td>\n      <td>NaN</td>\n      <td>1</td>\n      <td>0</td>\n      <td>0</td>\n      <td>0</td>\n    </tr>\n    <tr>\n      <th>1</th>\n      <td>2019-12-01</td>\n      <td>中国</td>\n      <td>CN</td>\n      <td>Hubei Province</td>\n      <td>NaN</td>\n      <td>1</td>\n      <td>0</td>\n      <td>0</td>\n      <td>0</td>\n    </tr>\n    <tr>\n      <th>2</th>\n      <td>2019-12-01</td>\n      <td>中国</td>\n      <td>CN</td>\n      <td>Hubei Province</td>\n      <td>Wuhan</td>\n      <td>1</td>\n      <td>0</td>\n      <td>0</td>\n      <td>0</td>\n    </tr>\n  </tbody>\n</table>\n</div>"
     },
     "metadata": {},
     "output_type": "execute_result",
     "execution_count": 4
    }
   ],
   "source": [
    "daily_frm_DXYArea = translate_to_English(DXYArea, prov_dict, city_dict)\n",
    "\n",
    "daily_frm_DXYArea.head(3)\n"
   ],
   "metadata": {
    "collapsed": false,
    "pycharm": {
     "name": "#%%\n",
     "is_executing": false
    }
   }
  },
  {
   "cell_type": "code",
   "execution_count": 11,
   "outputs": [
    {
     "data": {
      "text/plain": "False"
     },
     "metadata": {},
     "output_type": "execute_result",
     "execution_count": 11
    }
   ],
   "source": [
    "len(daily_frm_DXYArea) == len(DXYArea)\n",
    "\n"
   ],
   "metadata": {
    "collapsed": false,
    "pycharm": {
     "name": "#%%\n",
     "is_executing": false
    }
   }
  },
  {
   "cell_type": "code",
   "execution_count": 10,
   "outputs": [],
   "source": [
    "daily_frm_DXYArea.to_csv ('../data/DXYArea.csv', index = None, header=True)\n"
   ],
   "metadata": {
    "collapsed": false,
    "pycharm": {
     "name": "#%%\n",
     "is_executing": false
    }
   }
  }
 ],
 "metadata": {
  "kernelspec": {
   "name": "pycharm-d1ce3f7d",
   "language": "python",
   "display_name": "PyCharm (untitled1)"
  },
  "language_info": {
   "codemirror_mode": {
    "name": "ipython",
    "version": 2
   },
   "file_extension": ".py",
   "mimetype": "text/x-python",
   "name": "python",
   "nbconvert_exporter": "python",
   "pygments_lexer": "ipython2",
   "version": "2.7.6"
  },
  "pycharm": {
   "stem_cell": {
    "cell_type": "raw",
    "source": [],
    "metadata": {
     "collapsed": false
    }
   }
  }
 },
 "nbformat": 4,
 "nbformat_minor": 0
}